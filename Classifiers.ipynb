{
 "cells": [
  {
   "cell_type": "code",
   "execution_count": 1,
   "metadata": {
    "collapsed": true
   },
   "outputs": [],
   "source": [
    "%matplotlib inline\n",
    "import pandas as pd\n",
    "import numpy as np\n",
    "import matplotlib\n",
    "import matplotlib.pyplot as plt\n",
    "matplotlib.style.use('ggplot')\n",
    "matplotlib.style.use('seaborn-notebook')\n",
    "plt.rcParams['figure.figsize'] = (14.0, 11.0)\n",
    "%load_ext autoreload\n",
    "%autoreload 2"
   ]
  },
  {
   "cell_type": "code",
   "execution_count": 2,
   "metadata": {
    "collapsed": false
   },
   "outputs": [
    {
     "name": "stderr",
     "output_type": "stream",
     "text": [
      "Using gpu device 0: GeForce GTX 970 (CNMeM is disabled, CuDNN not available)\n"
     ]
    }
   ],
   "source": [
    "import process as p\n",
    "import dmc"
   ]
  },
  {
   "cell_type": "code",
   "execution_count": 3,
   "metadata": {
    "collapsed": false
   },
   "outputs": [],
   "source": [
    "df = p.processed_data()"
   ]
  },
  {
   "cell_type": "code",
   "execution_count": 4,
   "metadata": {
    "collapsed": false
   },
   "outputs": [
    {
     "data": {
      "text/plain": [
       "(947782, 288063, 1235845, 2293170)"
      ]
     },
     "execution_count": 4,
     "metadata": {},
     "output_type": "execute_result"
    }
   ],
   "source": [
    "start, end, split = pd.Timestamp('2014-1-1'), pd.Timestamp('2014-12-31'), pd.Timestamp('2014-10-1')\n",
    "df.orderDate = pd.to_datetime(df.orderDate)\n",
    "mask = (df.orderDate >= start) & (df.orderDate <= end)\n",
    "df_full = df[mask]\n",
    "df_train = df_full[df_full.orderDate < split]\n",
    "df_class = df_full[df_full.orderDate >= split]\n",
    "len(df_train), len(df_class), len(df_full), len(df)"
   ]
  },
  {
   "cell_type": "code",
   "execution_count": 5,
   "metadata": {
    "collapsed": false
   },
   "outputs": [
    {
     "name": "stderr",
     "output_type": "stream",
     "text": [
      "/usr/local/lib/python3.5/site-packages/pandas/core/generic.py:2387: SettingWithCopyWarning: \n",
      "A value is trying to be set on a copy of a slice from a DataFrame.\n",
      "Try using .loc[row_indexer,col_indexer] = value instead\n",
      "\n",
      "See the caveats in the documentation: http://pandas.pydata.org/pandas-docs/stable/indexing.html#indexing-view-versus-copy\n",
      "  self[name] = value\n"
     ]
    }
   ],
   "source": [
    "X, Y, fts = dmc.transformation.transform_preserving_header(\n",
    "    df_full, scaler=dmc.normalization.scale_features, binary_target=True)"
   ]
  },
  {
   "cell_type": "code",
   "execution_count": 6,
   "metadata": {
    "collapsed": false
   },
   "outputs": [],
   "source": [
    "X_train, Y_train = X[:5000], Y[:5000]\n",
    "X_class, Y_class = X[5000:20000], Y[5000:20000]"
   ]
  },
  {
   "cell_type": "code",
   "execution_count": 15,
   "metadata": {
    "collapsed": false
   },
   "outputs": [],
   "source": [
    "res_tree = dmc.evaluation.evaluate_features_leaving_one_out(\n",
    "    X_train, Y_train, X_class, Y_class, fts, dmc.classifiers.DecisionTree)\n",
    "res_bayes = dmc.evaluation.evaluate_features_leaving_one_out(\n",
    "    X_train, Y_train, X_class, Y_class, fts, dmc.classifiers.NaiveBayes)\n",
    "res_svm = dmc.evaluation.evaluate_features_leaving_one_out(\n",
    "    X_train, Y_train, X_class, Y_class, fts, dmc.classifiers.SVM)"
   ]
  }
 ],
 "metadata": {
  "kernelspec": {
   "display_name": "python3",
   "language": "python",
   "name": "python3"
  },
  "language_info": {
   "codemirror_mode": {
    "name": "ipython",
    "version": 3
   },
   "file_extension": ".py",
   "mimetype": "text/x-python",
   "name": "python",
   "nbconvert_exporter": "python",
   "pygments_lexer": "ipython3",
   "version": "3.5.0"
  }
 },
 "nbformat": 4,
 "nbformat_minor": 0
}
