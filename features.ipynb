{
 "cells": [
  {
   "cell_type": "code",
   "execution_count": 1,
   "metadata": {
    "collapsed": false
   },
   "outputs": [],
   "source": [
    "%matplotlib inline\n",
    "import pandas as pd\n",
    "import dmc\n",
    "data = dmc.data_train()\n",
    "df = dmc.cleansing.cleanse(data)"
   ]
  },
  {
   "cell_type": "markdown",
   "metadata": {},
   "source": [
    "# Additional Features"
   ]
  },
  {
   "cell_type": "markdown",
   "metadata": {},
   "source": [
    "## Return probabilities of groups"
   ]
  },
  {
   "cell_type": "markdown",
   "metadata": {},
   "source": [
    "### Customer return probablity\n",
    "How many products has the customer returned relative to the number of products he ordered?"
   ]
  },
  {
   "cell_type": "code",
   "execution_count": null,
   "metadata": {
    "collapsed": false
   },
   "outputs": [],
   "source": [
    "returned_articles = df.groupby(['customerID'])['returnQuantity'].sum()\n",
    "bought_articles = df.groupby(['customerID'])['quantity'].sum()\n",
    "customer_return_probs = returned_articles / bought_articles\n",
    "\n",
    "customer_return_probs.plot('hist', bins=[i / 100 for i in range(100)])\n",
    "None"
   ]
  },
  {
   "cell_type": "markdown",
   "metadata": {},
   "source": [
    "### Product group return probability\n",
    "How many articles in this group were returned relative to the number of articles in this group sold?"
   ]
  },
  {
   "cell_type": "code",
   "execution_count": null,
   "metadata": {
    "collapsed": false
   },
   "outputs": [],
   "source": [
    "returned_articles = df.groupby(['productGroup'])['returnQuantity'].sum()\n",
    "bought_articles = df.groupby(['productGroup'])['quantity'].sum()\n",
    "group_return_probs = returned_articles / bought_articles\n",
    "\n",
    "axes = group_return_probs.sort_values().plot('bar')\n",
    "axes.set_ylim([0,1])\n",
    "None"
   ]
  },
  {
   "cell_type": "markdown",
   "metadata": {},
   "source": [
    "### Size return probability\n",
    "How many articles with this size code were returned relative to the number of articles bought."
   ]
  },
  {
   "cell_type": "code",
   "execution_count": null,
   "metadata": {
    "collapsed": false
   },
   "outputs": [],
   "source": [
    "returned_articles = df.groupby(['sizeCode']).returnQuantity.sum()\n",
    "bought_articles = df.groupby(['sizeCode']).quantity.sum()\n",
    "group_return_probs = returned_articles / bought_articles\n",
    "\n",
    "axes = group_return_probs.sort_values().plot('bar')\n",
    "axes.set_ylim([0,1])\n",
    "None"
   ]
  },
  {
   "cell_type": "markdown",
   "metadata": {},
   "source": [
    "### Color return probability\n",
    "How many articles with this color code were returned relative to the number of articles bought."
   ]
  },
  {
   "cell_type": "code",
   "execution_count": null,
   "metadata": {
    "collapsed": false
   },
   "outputs": [],
   "source": [
    "returned_articles = df.groupby(['colorCode']).returnQuantity.sum()\n",
    "bought_articles = df.groupby(['colorCode']).quantity.sum()\n",
    "group_return_probs = returned_articles / bought_articles\n",
    "\n",
    "axes = group_return_probs.sort_values().plot('bar')\n",
    "axes.set_ylim([0,1])\n",
    "None"
   ]
  },
  {
   "cell_type": "markdown",
   "metadata": {},
   "source": [
    "## Total order share\n",
    "What share in the order's total price does the current row have?"
   ]
  },
  {
   "cell_type": "code",
   "execution_count": 5,
   "metadata": {
    "collapsed": false
   },
   "outputs": [
    {
     "data": {
      "text/plain": [
       "0          0.333333\n",
       "1          0.666667\n",
       "2          0.411813\n",
       "3          0.588187\n",
       "4          0.166667\n",
       "5          0.166667\n",
       "6          0.416667\n",
       "7          0.250000\n",
       "9          1.000000\n",
       "10         0.428571\n",
       "11         0.285714\n",
       "12         0.285714\n",
       "14         1.000000\n",
       "15         0.300000\n",
       "16         0.400000\n",
       "17         0.300000\n",
       "18         1.000000\n",
       "19         0.114277\n",
       "20         0.114277\n",
       "21         0.200006\n",
       "22         0.171429\n",
       "23         0.200006\n",
       "24         0.200006\n",
       "25         0.243902\n",
       "26         0.268293\n",
       "27         0.268293\n",
       "28         0.048780\n",
       "29         0.097561\n",
       "30         0.073171\n",
       "31         0.178597\n",
       "             ...   \n",
       "2325134    0.422554\n",
       "2325135    0.140875\n",
       "2325136    0.183067\n",
       "2325137    0.253504\n",
       "2325138    0.124997\n",
       "2325139    0.291688\n",
       "2325140    0.104161\n",
       "2325141    0.062488\n",
       "2325142    0.041673\n",
       "2325143    0.083325\n",
       "2325144    0.145834\n",
       "2325145    0.145834\n",
       "2325146    0.204082\n",
       "2325147    0.091837\n",
       "2325148    0.091837\n",
       "2325149    0.153061\n",
       "2325150    0.204082\n",
       "2325151    0.255102\n",
       "2325152    0.692337\n",
       "2325154    0.307663\n",
       "2325155    0.249984\n",
       "2325156    0.375008\n",
       "2325157    0.375008\n",
       "2325158    0.357149\n",
       "2325159    0.321425\n",
       "2325160    0.321425\n",
       "2325161    1.000000\n",
       "2325162    0.357143\n",
       "2325163    0.321429\n",
       "2325164    0.321429\n",
       "Name: price, dtype: float64"
      ]
     },
     "execution_count": 5,
     "metadata": {},
     "output_type": "execute_result"
    }
   ],
   "source": [
    "order_prices = df.groupby(['orderID']).price.sum()\n",
    "orderShares = df.price / list(order_prices.loc[df.orderID])\n",
    "orderShares"
   ]
  },
  {
   "cell_type": "markdown",
   "metadata": {},
   "source": [
    "## Total voucher saving\n",
    "What share of the order's total price was saved with vouchers?"
   ]
  },
  {
   "cell_type": "code",
   "execution_count": 6,
   "metadata": {
    "collapsed": false
   },
   "outputs": [
    {
     "data": {
      "text/plain": [
       "orderID\n",
       "1000001    0.000000\n",
       "1000001    0.000000\n",
       "1000002    0.000000\n",
       "1000002    0.000000\n",
       "1000003    0.000000\n",
       "1000003    0.000000\n",
       "1000003    0.000000\n",
       "1000003    0.000000\n",
       "1000004    0.000000\n",
       "1000005    0.000000\n",
       "1000005    0.000000\n",
       "1000005    0.000000\n",
       "1000006    0.000000\n",
       "1000007    0.000000\n",
       "1000007    0.000000\n",
       "1000007    0.000000\n",
       "1000008    0.000000\n",
       "1000009    0.000000\n",
       "1000009    0.000000\n",
       "1000009    0.000000\n",
       "1000009    0.000000\n",
       "1000009    0.000000\n",
       "1000009    0.000000\n",
       "1000010    0.000000\n",
       "1000010    0.000000\n",
       "1000010    0.000000\n",
       "1000010    0.000000\n",
       "1000010    0.000000\n",
       "1000010    0.000000\n",
       "1000011    0.000000\n",
       "             ...   \n",
       "1744170    0.000000\n",
       "1744170    0.000000\n",
       "1744170    0.000000\n",
       "1744170    0.000000\n",
       "1744171    0.000000\n",
       "1744171    0.000000\n",
       "1744171    0.000000\n",
       "1744171    0.000000\n",
       "1744171    0.000000\n",
       "1744171    0.000000\n",
       "1744171    0.000000\n",
       "1744171    0.000000\n",
       "1744172    0.612245\n",
       "1744172    0.612245\n",
       "1744172    0.612245\n",
       "1744172    0.612245\n",
       "1744172    0.612245\n",
       "1744172    0.612245\n",
       "1744173    0.000000\n",
       "1744173    0.000000\n",
       "1744174    0.000000\n",
       "1744174    0.000000\n",
       "1744174    0.000000\n",
       "1744175    0.000000\n",
       "1744175    0.000000\n",
       "1744175    0.000000\n",
       "1744176    0.000000\n",
       "1744177    0.000000\n",
       "1744177    0.000000\n",
       "1744177    0.000000\n",
       "dtype: float64"
      ]
     },
     "execution_count": 6,
     "metadata": {},
     "output_type": "execute_result"
    }
   ],
   "source": [
    "order_prices = df.groupby(['orderID']).price.sum()\n",
    "voucher_amounts = df.groupby(['orderID']).voucherAmount.sum()\n",
    "total_voucher_saving = voucher_amounts.loc[df.orderID] / order_prices.loc[df.orderID]\n",
    "total_voucher_saving"
   ]
  }
 ],
 "metadata": {
  "kernelspec": {
   "display_name": "Python 3",
   "language": "python",
   "name": "python3"
  },
  "language_info": {
   "codemirror_mode": {
    "name": "ipython",
    "version": 3
   },
   "file_extension": ".py",
   "mimetype": "text/x-python",
   "name": "python",
   "nbconvert_exporter": "python",
   "pygments_lexer": "ipython3",
   "version": "3.5.0"
  }
 },
 "nbformat": 4,
 "nbformat_minor": 0
}
