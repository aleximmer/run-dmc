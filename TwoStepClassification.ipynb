{
 "cells": [
  {
   "cell_type": "markdown",
   "metadata": {},
   "source": [
    "# Two step classification benchmark\n",
    "The purpose of this notebook consists in benchmarking two step classification against one step classification. Advantage of a two step approach is that most classifiers (especially SVM) have significantly shorter training times. Thus it should be evaluated how precision behaves in both approaches and the best classifier for predicting the final return quantity should be found."
   ]
  },
  {
   "cell_type": "code",
   "execution_count": 1,
   "metadata": {
    "collapsed": true
   },
   "outputs": [],
   "source": [
    "import pandas as pd\n",
    "import numpy as np\n",
    "from scipy.sparse import csr_matrix, hstack\n",
    "import process as p\n",
    "import dmc"
   ]
  },
  {
   "cell_type": "code",
   "execution_count": 2,
   "metadata": {
    "collapsed": true
   },
   "outputs": [],
   "source": [
    "df = p.processed_data()\n",
    "for c in [col for col in df.columns if 'Prob' in col]:\n",
    "    df = df.drop(c, 1)"
   ]
  },
  {
   "cell_type": "code",
   "execution_count": 3,
   "metadata": {
    "collapsed": false
   },
   "outputs": [],
   "source": [
    "def predict_return_quantity_direct(df, tr_size, te_size):\n",
    "    results = []\n",
    "    X, Y = dmc.transformation.transform(df, scaler=dmc.normalization.scale_features,\n",
    "                                        binary_target=False)\n",
    "    train = X[:tr_size], Y[:tr_size]\n",
    "    test = X[tr_size:tr_size + te_size], Y[tr_size:tr_size + te_size]\n",
    "    for classifier in p.basic[:-1]:\n",
    "        clf = classifier(train[0], train[1])\n",
    "        res = clf(test[0])\n",
    "        precision = dmc.evaluation.precision(res, test[1])\n",
    "        cost = dmc.evaluation.dmc_cost(res, test[1])\n",
    "        results.append((precision, cost))\n",
    "    return np.array([r[0] for r in results]), np.array([r[1] for r in results])\n",
    "        \n",
    "def predict_return_quantity_twostep(df, tr_size, te_size):\n",
    "    results = []\n",
    "    X, Y = dmc.transformation.transform(df, scaler=dmc.normalization.scale_features,\n",
    "                                        binary_target=True)\n",
    "    Y_fin = dmc.transformation.transform_target_vector(df, binary=False)\n",
    "    train = X[:tr_size], Y[:tr_size]\n",
    "    test = X[tr_size:tr_size + te_size], Y[tr_size:tr_size + te_size]\n",
    "    for classifier in p.basic[:-1]:\n",
    "        clf = classifier(train[0], train[1])\n",
    "        res = clf(test[0])\n",
    "        Y_csr, res_csr = csr_matrix(Y).T, csr_matrix(res).T\n",
    "        train_fin = hstack([train[0], Y_csr[:tr_size]]), Y_fin[:tr_size]\n",
    "        test_fin = hstack([test[0], res_csr]), Y_fin[tr_size:tr_size + te_size]\n",
    "        clf_fin = classifier(train_fin[0], train_fin[1])\n",
    "        res_fin = clf_fin(test_fin[0])\n",
    "        precision = dmc.evaluation.precision(res_fin, test_fin[1])\n",
    "        cost = dmc.evaluation.dmc_cost(res_fin, test_fin[1])\n",
    "        results.append((precision, cost))\n",
    "    return np.array([r[0] for r in results]), np.array([r[1] for r in results])"
   ]
  },
  {
   "cell_type": "code",
   "execution_count": 4,
   "metadata": {
    "collapsed": true
   },
   "outputs": [],
   "source": [
    "def benchmark_prediction_target(df, tr_size, te_size, samplings=10):\n",
    "    df_res = pd.DataFrame(index=p.basic[:-1])\n",
    "    for i in range(samplings):\n",
    "        df = p.shuffle(df)\n",
    "        dfc = df[:te_size + tr_size].copy()\n",
    "        res_dir = predict_return_quantity_direct(dfc, tr_size, te_size)\n",
    "        res_two = predict_return_quantity_twostep(dfc, tr_size, te_size)\n",
    "        df_res[str(i) + '_precision'] = res_two[0] - res_dir[0]\n",
    "        df_res[str(i) + '_cost'] = res_dir[1] - res_two[1]\n",
    "    return df_res"
   ]
  },
  {
   "cell_type": "code",
   "execution_count": 65,
   "metadata": {
    "collapsed": false
   },
   "outputs": [
    {
     "data": {
      "text/html": [
       "<div>\n",
       "<table border=\"1\" class=\"dataframe\">\n",
       "  <thead>\n",
       "    <tr style=\"text-align: right;\">\n",
       "      <th></th>\n",
       "      <th>0_precision</th>\n",
       "      <th>0_cost</th>\n",
       "      <th>1_precision</th>\n",
       "      <th>1_cost</th>\n",
       "      <th>2_precision</th>\n",
       "      <th>2_cost</th>\n",
       "    </tr>\n",
       "  </thead>\n",
       "  <tbody>\n",
       "    <tr>\n",
       "      <th>&lt;class 'dmc.classifiers.DecisionTree'&gt;</th>\n",
       "      <td>-0.0055</td>\n",
       "      <td>-10</td>\n",
       "      <td>0.0035</td>\n",
       "      <td>8</td>\n",
       "      <td>0.0125</td>\n",
       "      <td>27</td>\n",
       "    </tr>\n",
       "    <tr>\n",
       "      <th>&lt;class 'dmc.classifiers.Forest'&gt;</th>\n",
       "      <td>-0.0075</td>\n",
       "      <td>-15</td>\n",
       "      <td>0.0130</td>\n",
       "      <td>26</td>\n",
       "      <td>0.0000</td>\n",
       "      <td>2</td>\n",
       "    </tr>\n",
       "    <tr>\n",
       "      <th>&lt;class 'dmc.classifiers.NaiveBayes'&gt;</th>\n",
       "      <td>0.0015</td>\n",
       "      <td>3</td>\n",
       "      <td>-0.0020</td>\n",
       "      <td>-4</td>\n",
       "      <td>-0.0010</td>\n",
       "      <td>0</td>\n",
       "    </tr>\n",
       "    <tr>\n",
       "      <th>&lt;class 'dmc.classifiers.SVM'&gt;</th>\n",
       "      <td>0.0010</td>\n",
       "      <td>3</td>\n",
       "      <td>-0.0025</td>\n",
       "      <td>-4</td>\n",
       "      <td>-0.0025</td>\n",
       "      <td>-3</td>\n",
       "    </tr>\n",
       "  </tbody>\n",
       "</table>\n",
       "</div>"
      ],
      "text/plain": [
       "                                        0_precision  0_cost  1_precision  \\\n",
       "<class 'dmc.classifiers.DecisionTree'>      -0.0055     -10       0.0035   \n",
       "<class 'dmc.classifiers.Forest'>            -0.0075     -15       0.0130   \n",
       "<class 'dmc.classifiers.NaiveBayes'>         0.0015       3      -0.0020   \n",
       "<class 'dmc.classifiers.SVM'>                0.0010       3      -0.0025   \n",
       "\n",
       "                                        1_cost  2_precision  2_cost  \n",
       "<class 'dmc.classifiers.DecisionTree'>       8       0.0125      27  \n",
       "<class 'dmc.classifiers.Forest'>            26       0.0000       2  \n",
       "<class 'dmc.classifiers.NaiveBayes'>        -4      -0.0010       0  \n",
       "<class 'dmc.classifiers.SVM'>               -4      -0.0025      -3  "
      ]
     },
     "execution_count": 65,
     "metadata": {},
     "output_type": "execute_result"
    }
   ],
   "source": [
    "benchmark_prediction_target(df, 4000, 20000, 5)"
   ]
  },
  {
   "cell_type": "code",
   "execution_count": null,
   "metadata": {
    "collapsed": true
   },
   "outputs": [],
   "source": []
  }
 ],
 "metadata": {
  "kernelspec": {
   "display_name": "Python 3",
   "language": "python",
   "name": "python3"
  },
  "language_info": {
   "codemirror_mode": {
    "name": "ipython",
    "version": 3
   },
   "file_extension": ".py",
   "mimetype": "text/x-python",
   "name": "python",
   "nbconvert_exporter": "python",
   "pygments_lexer": "ipython3",
   "version": "3.5.1"
  }
 },
 "nbformat": 4,
 "nbformat_minor": 0
}
