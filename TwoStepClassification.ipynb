{
 "cells": [
  {
   "cell_type": "markdown",
   "metadata": {},
   "source": [
    "# Two step classification benchmark\n",
    "The purpose of this notebook consists in benchmarking two step classification against one step classification. Advantage of a two step approach is that most classifiers (especially SVM) have significantly shorter training times. Thus it should be evaluated how precision behaves in both approaches and the best classifier for predicting the final return quantity should be found."
   ]
  },
  {
   "cell_type": "code",
   "execution_count": 1,
   "metadata": {
    "collapsed": true
   },
   "outputs": [],
   "source": [
    "import pandas as pd\n",
    "import numpy as np\n",
    "from scipy.sparse import csr_matrix, hstack\n",
    "import process as p\n",
    "import dmc"
   ]
  },
  {
   "cell_type": "code",
   "execution_count": 2,
   "metadata": {
    "collapsed": true
   },
   "outputs": [],
   "source": [
    "df = p.processed_data()\n",
    "for c in [col for col in df.columns if 'Prob' in col]:\n",
    "    df = df.drop(c, 1)"
   ]
  },
  {
   "cell_type": "markdown",
   "metadata": {},
   "source": [
    "Method for running all classifiers except for neural network and return precision for each and cost for each"
   ]
  },
  {
   "cell_type": "code",
   "execution_count": 3,
   "metadata": {
    "collapsed": false
   },
   "outputs": [],
   "source": [
    "def predict_return_quantity_direct(df, tr_size, te_size):\n",
    "    results = []\n",
    "    X, Y = dmc.transformation.transform(df, scaler=dmc.normalization.scale_features,\n",
    "                                        binary_target=False)\n",
    "    train = X[:tr_size], Y[:tr_size]\n",
    "    test = X[tr_size:tr_size + te_size], Y[tr_size:tr_size + te_size]\n",
    "    for classifier in p.basic[:-1]:\n",
    "        clf = classifier(train[0], train[1])\n",
    "        res = clf(test[0])\n",
    "        precision = dmc.evaluation.precision(res, test[1])\n",
    "        cost = dmc.evaluation.dmc_cost(res, test[1])\n",
    "        results.append((precision, cost))\n",
    "    return np.array([r[0] for r in results]), np.array([r[1] for r in results])"
   ]
  },
  {
   "cell_type": "markdown",
   "metadata": {},
   "source": [
    "Method for running all classifiers except for neural network and return precision and cost for each but using the classifier twice. The chained fashion resembles classifying first if a row has a return and then predicting the exact label representing return Quantity."
   ]
  },
  {
   "cell_type": "code",
   "execution_count": null,
   "metadata": {
    "collapsed": true
   },
   "outputs": [],
   "source": [
    "def predict_return_quantity_twostep(df, tr_size, te_size):\n",
    "    results = []\n",
    "    X, Y = dmc.transformation.transform(df, scaler=dmc.normalization.scale_features,\n",
    "                                        binary_target=True)\n",
    "    Y_fin = dmc.transformation.transform_target_vector(df, binary=False)\n",
    "    train = X[:tr_size], Y[:tr_size]\n",
    "    test = X[tr_size:tr_size + te_size], Y[tr_size:tr_size + te_size]\n",
    "    for classifier in p.basic[:-1]:\n",
    "        clf = classifier(train[0], train[1])\n",
    "        res = clf(test[0])\n",
    "        Y_csr, res_csr = csr_matrix(Y).T, csr_matrix(res).T\n",
    "        train_fin = hstack([train[0], Y_csr[:tr_size]]), Y_fin[:tr_size]\n",
    "        test_fin = hstack([test[0], res_csr]), Y_fin[tr_size:tr_size + te_size]\n",
    "        clf_fin = classifier(train_fin[0], train_fin[1])\n",
    "        res_fin = clf_fin(test_fin[0])\n",
    "        precision = dmc.evaluation.precision(res_fin, test_fin[1])\n",
    "        cost = dmc.evaluation.dmc_cost(res_fin, test_fin[1])\n",
    "        results.append((precision, cost))\n",
    "    return np.array([r[0] for r in results]), np.array([r[1] for r in results])"
   ]
  },
  {
   "cell_type": "code",
   "execution_count": 4,
   "metadata": {
    "collapsed": true
   },
   "outputs": [],
   "source": [
    "def benchmark_prediction_target(df, tr_size, te_size, samplings=10):\n",
    "    df_res = pd.DataFrame(index=p.basic[:-1])\n",
    "    for i in range(samplings):\n",
    "        df = p.shuffle(df)\n",
    "        dfc = df[:te_size + tr_size].copy()\n",
    "        res_dir = predict_return_quantity_direct(dfc, tr_size, te_size)\n",
    "        res_two = predict_return_quantity_twostep(dfc, tr_size, te_size)\n",
    "        df_res[str(i) + '_precision'] = res_two[0] - res_dir[0]\n",
    "        df_res[str(i) + '_cost'] = res_dir[1] - res_two[1]\n",
    "    return df_res"
   ]
  },
  {
   "cell_type": "code",
   "execution_count": null,
   "metadata": {
    "collapsed": false
   },
   "outputs": [],
   "source": [
    "benchmark_prediction_target(df, 4000, 20000, 5)"
   ]
  },
  {
   "cell_type": "code",
   "execution_count": null,
   "metadata": {
    "collapsed": true
   },
   "outputs": [],
   "source": []
  }
 ],
 "metadata": {
  "kernelspec": {
   "display_name": "Python 3",
   "language": "python",
   "name": "python3"
  },
  "language_info": {
   "codemirror_mode": {
    "name": "ipython",
    "version": 3
   },
   "file_extension": ".py",
   "mimetype": "text/x-python",
   "name": "python",
   "nbconvert_exporter": "python",
   "pygments_lexer": "ipython3",
   "version": "3.5.1"
  }
 },
 "nbformat": 4,
 "nbformat_minor": 0
}
