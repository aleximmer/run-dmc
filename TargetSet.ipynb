{
 "cells": [
  {
   "cell_type": "code",
   "execution_count": 1,
   "metadata": {
    "collapsed": true
   },
   "outputs": [],
   "source": [
    "%matplotlib inline\n",
    "import pandas as pd\n",
    "import numpy as np\n",
    "import matplotlib\n",
    "import matplotlib.pyplot as plt"
   ]
  },
  {
   "cell_type": "code",
   "execution_count": 2,
   "metadata": {
    "collapsed": true
   },
   "outputs": [],
   "source": [
    "matplotlib.style.use('ggplot')\n",
    "matplotlib.style.use('seaborn-notebook')\n",
    "plt.rcParams['figure.figsize'] = (14.0, 11.0)"
   ]
  },
  {
   "cell_type": "code",
   "execution_count": 3,
   "metadata": {
    "collapsed": false
   },
   "outputs": [
    {
     "name": "stderr",
     "output_type": "stream",
     "text": [
      "Using gpu device 0: GeForce GTX 970 (CNMeM is disabled, CuDNN not available)\n"
     ]
    }
   ],
   "source": [
    "import dmc"
   ]
  },
  {
   "cell_type": "code",
   "execution_count": 4,
   "metadata": {
    "collapsed": true
   },
   "outputs": [],
   "source": [
    "dft = dmc.loading.data_train()\n",
    "dfc = dmc.loading.data_class()"
   ]
  },
  {
   "cell_type": "code",
   "execution_count": 5,
   "metadata": {
    "collapsed": true
   },
   "outputs": [],
   "source": [
    "dft = dft.dropna(subset=['voucherID', 'rrp', 'productGroup'])\n",
    "dfc = dfc.dropna(subset=['voucherID', 'rrp', 'productGroup'])"
   ]
  },
  {
   "cell_type": "code",
   "execution_count": 6,
   "metadata": {
    "collapsed": false
   },
   "outputs": [
    {
     "data": {
      "text/plain": [
       "(2324812, 340991)"
      ]
     },
     "execution_count": 6,
     "metadata": {},
     "output_type": "execute_result"
    }
   ],
   "source": [
    "len(dft), len(dfc)"
   ]
  },
  {
   "cell_type": "markdown",
   "metadata": {},
   "source": [
    "## Categorical discrepancies between training and target set\n",
    "Investigated _articleID_, _colorCode_, _sizeCode_, _productGroup_, _quantity_, _voucherID_, _customerID_, _deviceID_, _paymentMethod_.\n",
    "The following definitely fully appear in the training set:\n",
    "**sizeCode, quantity, deviceID, paymentMethod**. Thus, in this version of the notebook they are left out. To proove the point the methods below can be used to profile columns."
   ]
  },
  {
   "cell_type": "code",
   "execution_count": 6,
   "metadata": {
    "collapsed": true
   },
   "outputs": [],
   "source": [
    "inv_features = ['articleID', 'colorCode', 'productGroup', 'voucherID', 'customerID']"
   ]
  },
  {
   "cell_type": "code",
   "execution_count": 8,
   "metadata": {
    "collapsed": false
   },
   "outputs": [],
   "source": [
    "def count_entries(data, features):\n",
    "    profile = []\n",
    "    for feat in features:\n",
    "        profile.append((feat, data.count(feat)))\n",
    "    return profile\n",
    "\n",
    "def profile_dfc(column, known, unknown):\n",
    "    entries = list(dfc[column])\n",
    "    known_prof = count_entries(entries, known)\n",
    "    unknown_prof = count_entries(entries, unknown)\n",
    "    print(len(known), ' features are known and ', len(unknown), ' features are not')\n",
    "    known_amt, unknown_amt = sum([e[1] for e in known_prof]), sum([e[1] for e in unknown_prof])\n",
    "    print('Ratio unknown:known for rows: ', unknown_amt/known_amt)\n",
    "    print(known_amt/len(entries), '% of the rows features are known')\n",
    "    print(unknown_amt/len(entries), '% of the rows features are not known')\n",
    "    \n",
    "def diff(column):\n",
    "    unknown = set(dfc[column]) - set(dft[column])\n",
    "    known = set(dfc[column]) - unknown\n",
    "    return known, unknown\n",
    "    \n",
    "def diff_and_profile(column):\n",
    "    known, unknown = diff(column)\n",
    "    profile_dfc(column, known, unknown)"
   ]
  },
  {
   "cell_type": "code",
   "execution_count": 20,
   "metadata": {
    "collapsed": false,
    "scrolled": false
   },
   "outputs": [
    {
     "name": "stdout",
     "output_type": "stream",
     "text": [
      "articleID\n",
      "1154  features are known and  418  features are not\n",
      "Ratio unknown:known for rows:  0.45969675176794916\n",
      "0.685073799601749 % of the rows features are known\n",
      "0.314926200398251 % of the rows features are not known\n",
      "colorCode\n",
      "239  features are known and  96  features are not\n",
      "Ratio unknown:known for rows:  0.25145333900967426\n",
      "0.7990709432213754 % of the rows features are known\n",
      "0.20092905677862466 % of the rows features are not known\n",
      "productGroup\n",
      "15  features are known and  13  features are not\n",
      "Ratio unknown:known for rows:  0.2259292681260763\n",
      "0.8157077459522392 % of the rows features are known\n",
      "0.18429225404776078 % of the rows features are not known\n",
      "voucherID\n",
      "34  features are known and  110  features are not\n",
      "Ratio unknown:known for rows:  0.2701743276465768\n",
      "0.7872935062802244 % of the rows features are known\n",
      "0.2127064937197756 % of the rows features are not known\n",
      "customerID\n",
      "42342  features are known and  30603  features are not\n",
      "Ratio unknown:known for rows:  0.4476435900810447\n",
      "0.6907777624629389 % of the rows features are known\n",
      "0.3092222375370611 % of the rows features are not known\n"
     ]
    }
   ],
   "source": [
    "for feature in inv_features:\n",
    "    print(feature)\n",
    "    diff_and_profile(feature)"
   ]
  },
  {
   "cell_type": "code",
   "execution_count": 21,
   "metadata": {
    "collapsed": false
   },
   "outputs": [],
   "source": [
    "knownGroup, uknownGroup = diff('productGroup')\n",
    "knownArt, uknownArt = diff('articleID')"
   ]
  },
  {
   "cell_type": "code",
   "execution_count": 30,
   "metadata": {
    "collapsed": false
   },
   "outputs": [
    {
     "name": "stdout",
     "output_type": "stream",
     "text": [
      "2 2\n",
      "19 19\n",
      "3 3\n",
      "2 2\n",
      "22 22\n",
      "32 32\n",
      "29 29\n",
      "30 30\n",
      "69 69\n",
      "26 26\n",
      "6 6\n",
      "46 46\n",
      "23 23\n"
     ]
    }
   ],
   "source": [
    "# all new productGroups contain new articles. New articles caused new productGroups indeed\n",
    "for group in uknownGroup:\n",
    "    art_set = set(dfc.articleID[dfc.productGroup == group])\n",
    "    dif = art_set - knownArt\n",
    "    print(len(dif), len(art_set))"
   ]
  },
  {
   "cell_type": "code",
   "execution_count": 35,
   "metadata": {
    "collapsed": false,
    "scrolled": true
   },
   "outputs": [
    {
     "data": {
      "text/plain": [
       "(109,\n",
       " {1.0, 2.0, 3.0, 4.0, 5.0, 6.0, 7.0, 8.0, 9.0, 13.0, 14.0, 17.0, 45.0, 50.0})"
      ]
     },
     "execution_count": 35,
     "metadata": {},
     "output_type": "execute_result"
    }
   ],
   "source": [
    "known = []\n",
    "for art in unknownArt:\n",
    "    group = set(dfc.productGroup[dfc.articleID == art]).pop()\n",
    "    if group in knownGroup:\n",
    "        known.append(group)\n",
    "len(known), set(known)"
   ]
  },
  {
   "cell_type": "code",
   "execution_count": 13,
   "metadata": {
    "collapsed": true
   },
   "outputs": [],
   "source": [
    "knownVoucher, uknownVoucher = diff('voucherID')\n",
    "usedVouchers = set(dfc.voucherID[dfc.voucherID.isin(knownVoucher)])"
   ]
  },
  {
   "cell_type": "markdown",
   "metadata": {},
   "source": [
    "## Deviation of known voucherIDs with respect to returnProbability"
   ]
  },
  {
   "cell_type": "code",
   "execution_count": 26,
   "metadata": {
    "collapsed": false,
    "scrolled": false
   },
   "outputs": [
    {
     "data": {
      "text/plain": [
       "(0, 1)"
      ]
     },
     "execution_count": 26,
     "metadata": {},
     "output_type": "execute_result"
    },
    {
     "data": {
      "image/png": "[encoded data removed]",
      "text/plain": [
       "<matplotlib.figure.Figure at 0x7f505a7e52b0>"
      ]
     },
     "metadata": {},
     "output_type": "display_data"
    }
   ],
   "source": [
    "returned_articles = dft[dft.voucherID.isin(knownVoucher)].groupby(['voucherID']).returnQuantity.sum()\n",
    "bought_articles = dft[dft.voucherID.isin(knownVoucher)].groupby(['voucherID']).quantity.sum()\n",
    "voucher_return_probs = returned_articles / bought_articles\n",
    "axes = voucher_return_probs.sort_values().plot('bar')\n",
    "axes.set_ylim([0,1])"
   ]
  },
  {
   "cell_type": "code",
   "execution_count": 55,
   "metadata": {
    "collapsed": false,
    "scrolled": false
   },
   "outputs": [
    {
     "data": {
      "text/plain": [
       "voucherID\n",
       "0           247246\n",
       "v1000251         1\n",
       "v1000305         1\n",
       "v1000345         3\n",
       "v1000413        35\n",
       "v1000415      9150\n",
       "v1000441         1\n",
       "v1000469         2\n",
       "v1000473         1\n",
       "v1000490        21\n",
       "v1000492        58\n",
       "v1000504         4\n",
       "v1000507         8\n",
       "v1000601        13\n",
       "v1000622         1\n",
       "v1000625       284\n",
       "v1000673         3\n",
       "v1000695       388\n",
       "v1000696        38\n",
       "v1000698         2\n",
       "v1000700         2\n",
       "v1000715        46\n",
       "v1000734      2100\n",
       "v1000737       330\n",
       "v1000741         2\n",
       "v1000747      3245\n",
       "v1000758         2\n",
       "v1000761         3\n",
       "v1000763      1463\n",
       "v1000785         2\n",
       "v1000795      1595\n",
       "v1000804      2008\n",
       "v1000812        20\n",
       "v1000816       382\n",
       "Name: orderID, dtype: int64"
      ]
     },
     "execution_count": 55,
     "metadata": {},
     "output_type": "execute_result"
    }
   ],
   "source": [
    "summedVoucher = dfc[dfc.voucherID.isin(knownVoucher)].groupby(['voucherID']).agg('count')\n",
    "summedVoucher.orderID"
   ]
  },
  {
   "cell_type": "markdown",
   "metadata": {},
   "source": [
    "1. _articleID_ might be interesting compared to _productGroup_ (are there articles which we can just add to a previously known productGroup? if it is unkown?). For _productGroup_ this is interesting because we may find a similar productGroup we can get the returnProbability from.\n",
    "2. _colorCode_ might be mappable and probably we can use bins that contain old and new colors in order to make a semantic split with regard to returnQuantity.\n",
    "3. _voucherID_ is an extremely risky feature since we only know 20% of the occurring vouchers in our target set. Thus we should teadiously reason why we want to keep that feature or if we want to.\n",
    "4. _customerID_ shows us that we can learn more about customers and it pays out for 70%. Also we should learn about first-time customer behavior in order to classify the other 30% better."
   ]
  },
  {
   "cell_type": "markdown",
   "metadata": {},
   "source": [
    "## Strategy for training with respect to the target set\n",
    "1. New articles lead to new productGroups. But there are also new articles which belong to old productGroups which might contain information regarding returns. So both features lead to specific classifiers. We can have one that deals with known articles and productGroups (biggest set), known articles and unknown pG, unknown articles and unknown pG, and both unknown\n",
    "2. colorCode can be binned as the latest tickets show. There are some outliers which seem to be bugs and can be transformed to the usual color codes. Further we can then bin those colors to similar colors since they have an equal return probability. It turns out that deviation per bin stays small when using 1k bins.\n",
    "3. voucherID as can be seen in the above plot and list of values is not neglectable when classifying on return. It might make sense to classify those rows containing voucherIDs at the borders specially instead of having a specialized classifier.\n",
    "4. customerID is time variant and thus we have to separate those customers which we don't know from the unknown ones. This leads to the third binary switch meaning that we have an array of three binary indicators saying if we know about this feature or not from the past, namely: $ (articleID, productGroup, customerID)$"
   ]
  },
  {
   "cell_type": "markdown",
   "metadata": {},
   "source": [
    "## Quantitative analysis of missing features in target set\n",
    "$(articleID, productGroup, customerID, voucherID)$"
   ]
  },
  {
   "cell_type": "code",
   "execution_count": 9,
   "metadata": {
    "collapsed": false
   },
   "outputs": [],
   "source": [
    "kArticle, ukArticle = diff('articleID')\n",
    "kProdG, ukProdG = diff('productGroup')\n",
    "kCustomer, ukCustomer = diff('customerID')\n",
    "kVoucher, ukVoucher = diff('voucherID')"
   ]
  },
  {
   "cell_type": "code",
   "execution_count": 23,
   "metadata": {
    "collapsed": false
   },
   "outputs": [],
   "source": [
    "df = pd.DataFrame(dfc.index)"
   ]
  },
  {
   "cell_type": "code",
   "execution_count": 26,
   "metadata": {
    "collapsed": false
   },
   "outputs": [
    {
     "data": {
      "text/html": [
       "<div>\n",
       "<table border=\"1\" class=\"dataframe\">\n",
       "  <thead>\n",
       "    <tr style=\"text-align: right;\">\n",
       "      <th></th>\n",
       "      <th></th>\n",
       "      <th></th>\n",
       "      <th></th>\n",
       "      <th>0</th>\n",
       "    </tr>\n",
       "    <tr>\n",
       "      <th>knownArticle</th>\n",
       "      <th>knownProdGrp</th>\n",
       "      <th>knownCustomer</th>\n",
       "      <th>knownVoucher</th>\n",
       "      <th></th>\n",
       "    </tr>\n",
       "  </thead>\n",
       "  <tbody>\n",
       "    <tr>\n",
       "      <th rowspan=\"8\" valign=\"top\">0</th>\n",
       "      <th rowspan=\"4\" valign=\"top\">0</th>\n",
       "      <th rowspan=\"2\" valign=\"top\">0</th>\n",
       "      <th>0</th>\n",
       "      <td>2096</td>\n",
       "    </tr>\n",
       "    <tr>\n",
       "      <th>1</th>\n",
       "      <td>13753</td>\n",
       "    </tr>\n",
       "    <tr>\n",
       "      <th rowspan=\"2\" valign=\"top\">1</th>\n",
       "      <th>0</th>\n",
       "      <td>10553</td>\n",
       "    </tr>\n",
       "    <tr>\n",
       "      <th>1</th>\n",
       "      <td>36398</td>\n",
       "    </tr>\n",
       "    <tr>\n",
       "      <th rowspan=\"4\" valign=\"top\">1</th>\n",
       "      <th rowspan=\"2\" valign=\"top\">0</th>\n",
       "      <th>0</th>\n",
       "      <td>2184</td>\n",
       "    </tr>\n",
       "    <tr>\n",
       "      <th>1</th>\n",
       "      <td>10773</td>\n",
       "    </tr>\n",
       "    <tr>\n",
       "      <th rowspan=\"2\" valign=\"top\">1</th>\n",
       "      <th>0</th>\n",
       "      <td>8330</td>\n",
       "    </tr>\n",
       "    <tr>\n",
       "      <th>1</th>\n",
       "      <td>23233</td>\n",
       "    </tr>\n",
       "    <tr>\n",
       "      <th rowspan=\"4\" valign=\"top\">1</th>\n",
       "      <th rowspan=\"4\" valign=\"top\">1</th>\n",
       "      <th rowspan=\"2\" valign=\"top\">0</th>\n",
       "      <th>0</th>\n",
       "      <td>12064</td>\n",
       "    </tr>\n",
       "    <tr>\n",
       "      <th>1</th>\n",
       "      <td>64545</td>\n",
       "    </tr>\n",
       "    <tr>\n",
       "      <th rowspan=\"2\" valign=\"top\">1</th>\n",
       "      <th>0</th>\n",
       "      <td>37269</td>\n",
       "    </tr>\n",
       "    <tr>\n",
       "      <th>1</th>\n",
       "      <td>119686</td>\n",
       "    </tr>\n",
       "  </tbody>\n",
       "</table>\n",
       "</div>"
      ],
      "text/plain": [
       "                                                           0\n",
       "knownArticle knownProdGrp knownCustomer knownVoucher        \n",
       "0            0            0             0               2096\n",
       "                                        1              13753\n",
       "                          1             0              10553\n",
       "                                        1              36398\n",
       "             1            0             0               2184\n",
       "                                        1              10773\n",
       "                          1             0               8330\n",
       "                                        1              23233\n",
       "1            1            0             0              12064\n",
       "                                        1              64545\n",
       "                          1             0              37269\n",
       "                                        1             119686"
      ]
     },
     "execution_count": 26,
     "metadata": {},
     "output_type": "execute_result"
    }
   ],
   "source": [
    "df['knownArticle'] = dfc.articleID.apply(lambda x: 0 if x in ukArticle else 1)\n",
    "df['knownProdGrp'] = dfc.productGroup.apply(lambda x: 0 if x in ukProdG else 1)\n",
    "df['knownCustomer'] = dfc.customerID.apply(lambda x: 0 if x in ukCustomer else 1)\n",
    "df['knownVoucher'] = dfc.voucherID.apply(lambda x: 0 if x in ukVoucher else 1)\n",
    "df.groupby(['knownArticle', 'knownProdGrp', 'knownCustomer', 'knownVoucher']).agg('count')"
   ]
  }
 ],
 "metadata": {
  "kernelspec": {
   "display_name": "python3",
   "language": "python",
   "name": "python3"
  },
  "language_info": {
   "codemirror_mode": {
    "name": "ipython",
    "version": 3
   },
   "file_extension": ".py",
   "mimetype": "text/x-python",
   "name": "python",
   "nbconvert_exporter": "python",
   "pygments_lexer": "ipython3",
   "version": "3.5.0"
  }
 },
 "nbformat": 4,
 "nbformat_minor": 0
}
